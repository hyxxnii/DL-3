{
  "nbformat": 4,
  "nbformat_minor": 0,
  "metadata": {
    "colab": {
      "name": "STEP1.ipynb",
      "provenance": [],
      "collapsed_sections": []
    },
    "kernelspec": {
      "name": "python3",
      "display_name": "Python 3"
    },
    "language_info": {
      "name": "python"
    }
  },
  "cells": [
    {
      "cell_type": "code",
      "execution_count": null,
      "metadata": {
        "id": "EdGxegi0JWyZ"
      },
      "outputs": [],
      "source": [
        "#Variable 클래스 구현\n",
        "\n",
        "class Variable:\n",
        "  def __init__(self, data):\n",
        "    self.data=data\n",
        "\n",
        "#실제 데이터 Variable의 data에 보관된다"
      ]
    },
    {
      "cell_type": "code",
      "source": [
        "import numpy as np\n",
        "\n",
        "data=np.array(1.0)\n",
        "x = Variable(data)\n",
        "print(x.data) \n",
        "\n",
        "#실제 데이터는 x안에 담겨있다(데이터 담은 상자)\n",
        "#머신러닝 시스템은 기본 데이터 구조로 '다차원 배열' 사용\n",
        "#넘파이 다차원 배열 클래스는 np.ndarray"
      ],
      "metadata": {
        "colab": {
          "base_uri": "https://localhost:8080/"
        },
        "id": "ROgI2iinJ8z7",
        "outputId": "47b74adb-6ebb-4697-bf41-55e00421db66"
      },
      "execution_count": null,
      "outputs": [
        {
          "output_type": "stream",
          "name": "stdout",
          "text": [
            "1.0\n"
          ]
        }
      ]
    },
    {
      "cell_type": "code",
      "source": [
        "x.data = np.array(2.0)\n",
        "print(x.data)\n",
        "\n",
        "#x.data = ...형태로 새로운 데이터 대입 -> Variable 클래스 상자로 사용 가능"
      ],
      "metadata": {
        "colab": {
          "base_uri": "https://localhost:8080/"
        },
        "id": "llGZkaM9QF2L",
        "outputId": "9715a608-a1a1-476b-de3c-325a8ba4b375"
      },
      "execution_count": null,
      "outputs": [
        {
          "output_type": "stream",
          "name": "stdout",
          "text": [
            "2.0\n"
          ]
        }
      ]
    },
    {
      "cell_type": "code",
      "source": [
        "#※ 넘파이의 다차원 배열\n",
        "#다차원 배열 원소의 순서에는 방향이 존재 = 차원, 축\n",
        "#0차원 배열 = 스칼라\n",
        "#1차원 배열 = 벡터\n",
        "#2차원 배열 = 행렬\n",
        "#'텐서'라고도 함 => 0차원 텐서, 1차원 텐서, 2차원 텐서\n"
      ],
      "metadata": {
        "id": "XvmWi2wPQVo6"
      },
      "execution_count": null,
      "outputs": []
    },
    {
      "cell_type": "code",
      "source": [
        "#ndim은 다차원 배열의 '차원 수'를 뜻함\n",
        "\n",
        "#import numpy as np\n",
        "#x = np.array(1)\n",
        "#x.ndim\n",
        "\n",
        "#x=np.array([1,2,3])\n",
        "#x.ndim\n",
        "\n",
        "#배열이 몇차원인지 확인 가능"
      ],
      "metadata": {
        "id": "H4xqT2XxQv2-"
      },
      "execution_count": null,
      "outputs": []
    },
    {
      "cell_type": "code",
      "source": [
        "#함수란 '어떤 변수로부터 다른 변수로의 대응 관계를 정한 것'\n",
        "\n",
        "#Function 클래스 구현\n",
        "#Function 클래스는 Variable 인스턴스 입력받아 Variable 인스턴스 출력한다. Variable 인스턴스의 실제 데이터는 인스턴스 변수인 data에 있다.\n",
        "\n",
        "class Function:\n",
        "  def __call__(self,input):  #__call__메서드 정의 시, f=Function() 대입 후, f(...)형태로 __call__메서드 호출 가능\n",
        "    x=input.data #데이터 꺼내기\n",
        "    y=self.forward(x) #실제 계산, 구체적인 계산은 forward 메서드에서 한다.\n",
        "    output = Variable(y) #Variable 형태로 되돌리기\n",
        "    return output\n",
        "\n",
        "#__call__은 'Variable에서 데이터 찾기', '계산 결과를 Variable에 포장하기' 한다.\n",
        "\n",
        "  def forward(self, x):\n",
        "    raise NotImplementedError()\n",
        "\n",
        "#forward메서드의 구체적인 로직은 하위 클래스에서 구현\n",
        "#Function 클래스는 기반 클래스, 모든 함수에 공통되는 기능 구현\n",
        "#구체적인 함수는 Function 클래스를 상속한 클래스에서 구현 -> Square\n",
        "\n",
        "class Square(Function):\n",
        "  def forward(self,x):\n",
        "    return x**2\n"
      ],
      "metadata": {
        "id": "lACWkhUKRHuO"
      },
      "execution_count": null,
      "outputs": []
    },
    {
      "cell_type": "code",
      "source": [
        "x = Variable(np.array(10))\n",
        "f=Square()\n",
        "y=f(x)\n",
        "print(type(y))\n",
        "print(y.data)"
      ],
      "metadata": {
        "colab": {
          "base_uri": "https://localhost:8080/"
        },
        "id": "uk4S10bRTJXF",
        "outputId": "d799a238-8992-425b-f221-1061bbd34a0a"
      },
      "execution_count": null,
      "outputs": [
        {
          "output_type": "stream",
          "name": "stdout",
          "text": [
            "<class '__main__.Variable'>\n",
            "100\n"
          ]
        }
      ]
    },
    {
      "cell_type": "code",
      "source": [
        "# 또 다른 함수 구현해, 여러 함수 조합 계산 할 수 있도록하자!\n",
        "\n",
        "class Exp(Function):\n",
        "  def forward(self, x):\n",
        "    return np.exp(x)\n",
        "\n",
        "A=Square()\n",
        "B=Exp()\n",
        "C=Square()\n",
        "\n",
        "x=Variable(np.array(0.5))\n",
        "a=A(x)\n",
        "b=B(a)\n",
        "y=C(b)\n",
        "print(y.data)\n",
        "\n",
        "#Function 클래스의 __call__메서드 입출력이 Variable 인스턴스로 통일되어 있어 여러 함수 연속 적용 가능"
      ],
      "metadata": {
        "colab": {
          "base_uri": "https://localhost:8080/"
        },
        "id": "KXk0HBB7U1fq",
        "outputId": "c3bacb51-931d-4303-ffe5-b4951311da71"
      },
      "execution_count": null,
      "outputs": [
        {
          "output_type": "stream",
          "name": "stdout",
          "text": [
            "1.648721270700128\n"
          ]
        }
      ]
    },
    {
      "cell_type": "code",
      "source": [
        "#수치 미분 구현\n",
        "\n",
        "#컴퓨터는 극한을 취급할 수 없어, h=0.0001와 같이 매우 작은 값을 이용해 함수의 변화량을 구한다. -> 미세한 차이를 이용해 함수의 변화량을 구하는 방법을 수치미분이라 한다.\n",
        "#수치미분은 진짜 미분 값을 근사하는데, 이 근사 오차를 줄이는 방법으로는 '중앙차분'이 있다.\n",
        "#중앙차분은 f(x)와 f(x+h) 차이 구하는(전진차분) 대신, f(x-h)와 f(x+h)의 차이를 구한다.\n",
        "\n",
        "def numerical_diff(f, x, eps=1e-4):\n",
        "  x0 = Variable(x.data-eps)\n",
        "  x1 = Variable(x.data+eps)\n",
        "  y0 = f(x0)\n",
        "  y1 = f(x1)\n",
        "  return (y1.data - y0.data)/(2*eps)"
      ],
      "metadata": {
        "id": "esmdoYX1WA4N"
      },
      "execution_count": null,
      "outputs": []
    },
    {
      "cell_type": "code",
      "source": [
        "#Square 클래스 대상으로 미분\n",
        "\n",
        "f=Square()\n",
        "x=Variable(np.array(2.0))\n",
        "dy=numerical_diff(f,x)\n",
        "print(dy)\n",
        "\n",
        "#오차가 없었다면 4.0이 나왔어야함 -> 결과가 정확하진 않지만 오차가 매우 작음"
      ],
      "metadata": {
        "colab": {
          "base_uri": "https://localhost:8080/"
        },
        "id": "4xes3S8XXgqu",
        "outputId": "a32732a2-e7bb-4400-d7c9-f7e7736439e3"
      },
      "execution_count": null,
      "outputs": [
        {
          "output_type": "stream",
          "name": "stdout",
          "text": [
            "4.000000000004\n"
          ]
        }
      ]
    },
    {
      "cell_type": "code",
      "source": [
        "#합성 함수 미분\n",
        "\n",
        "def f(x):\n",
        "  A=Square()\n",
        "  B=Exp()\n",
        "  C=Square()\n",
        "  return C(B(A(x)))\n",
        "\n",
        "x=Variable(np.array(0.5))\n",
        "dy=numerical_diff(f,x)\n",
        "print(dy)"
      ],
      "metadata": {
        "colab": {
          "base_uri": "https://localhost:8080/"
        },
        "id": "fM35DRU-YAsC",
        "outputId": "99f96338-2159-417e-c359-40456f48a1f9"
      },
      "execution_count": null,
      "outputs": [
        {
          "output_type": "stream",
          "name": "stdout",
          "text": [
            "3.2974426293330694\n"
          ]
        }
      ]
    },
    {
      "cell_type": "markdown",
      "source": [
        ""
      ],
      "metadata": {
        "id": "oUAECB3CQW-h"
      }
    }
  ]
}